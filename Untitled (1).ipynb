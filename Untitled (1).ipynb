{
 "cells": [
  {
   "cell_type": "code",
   "execution_count": 1,
   "metadata": {},
   "outputs": [],
   "source": [
    "#Importing Packages\n",
    "\n",
    "import pandas as pd\n",
    "import pylab as pl\n",
    "import numpy as np\n",
    "\n",
    "%matplotlib inline \n",
    "import matplotlib.pyplot as plt\n",
    "plt.style.use('dark_background')\n",
    "\n",
    "from matplotlib.dates import DateFormatter\n",
    "import matplotlib.dates as mdates"
   ]
  },
  {
   "cell_type": "code",
   "execution_count": 2,
   "metadata": {
    "scrolled": true
   },
   "outputs": [
    {
     "data": {
      "text/html": [
       "<div>\n",
       "<style scoped>\n",
       "    .dataframe tbody tr th:only-of-type {\n",
       "        vertical-align: middle;\n",
       "    }\n",
       "\n",
       "    .dataframe tbody tr th {\n",
       "        vertical-align: top;\n",
       "    }\n",
       "\n",
       "    .dataframe thead th {\n",
       "        text-align: right;\n",
       "    }\n",
       "</style>\n",
       "<table border=\"1\" class=\"dataframe\">\n",
       "  <thead>\n",
       "    <tr style=\"text-align: right;\">\n",
       "      <th></th>\n",
       "      <th>country</th>\n",
       "      <th>year</th>\n",
       "      <th>sex</th>\n",
       "      <th>age_group</th>\n",
       "      <th>suicides</th>\n",
       "      <th>pop_age_group</th>\n",
       "      <th>suicides_rate</th>\n",
       "      <th>HDI for year</th>\n",
       "      <th>gdp_for_year</th>\n",
       "      <th>gdp_per_capita</th>\n",
       "      <th>unemployment_rate</th>\n",
       "      <th>terciary_rate</th>\n",
       "    </tr>\n",
       "  </thead>\n",
       "  <tbody>\n",
       "    <tr>\n",
       "      <td>0</td>\n",
       "      <td>Australia</td>\n",
       "      <td>2015</td>\n",
       "      <td>female</td>\n",
       "      <td>15-24</td>\n",
       "      <td>110</td>\n",
       "      <td>1526305</td>\n",
       "      <td>7.210000</td>\n",
       "      <td>NaN</td>\n",
       "      <td>1.349030e+12</td>\n",
       "      <td>60656</td>\n",
       "      <td>11.9</td>\n",
       "      <td>118.61090</td>\n",
       "    </tr>\n",
       "    <tr>\n",
       "      <td>1</td>\n",
       "      <td>Australia</td>\n",
       "      <td>2015</td>\n",
       "      <td>male</td>\n",
       "      <td>15-24</td>\n",
       "      <td>281</td>\n",
       "      <td>1608990</td>\n",
       "      <td>17.460000</td>\n",
       "      <td>NaN</td>\n",
       "      <td>1.349030e+12</td>\n",
       "      <td>60656</td>\n",
       "      <td>14.2</td>\n",
       "      <td>118.61090</td>\n",
       "    </tr>\n",
       "    <tr>\n",
       "      <td>2</td>\n",
       "      <td>Australia</td>\n",
       "      <td>2015</td>\n",
       "      <td>female</td>\n",
       "      <td>25-54</td>\n",
       "      <td>413</td>\n",
       "      <td>4951358</td>\n",
       "      <td>8.341146</td>\n",
       "      <td>NaN</td>\n",
       "      <td>1.349030e+12</td>\n",
       "      <td>60656</td>\n",
       "      <td>5.2</td>\n",
       "      <td>118.61090</td>\n",
       "    </tr>\n",
       "    <tr>\n",
       "      <td>3</td>\n",
       "      <td>Australia</td>\n",
       "      <td>2015</td>\n",
       "      <td>male</td>\n",
       "      <td>25-54</td>\n",
       "      <td>1367</td>\n",
       "      <td>4911564</td>\n",
       "      <td>27.832275</td>\n",
       "      <td>NaN</td>\n",
       "      <td>1.349030e+12</td>\n",
       "      <td>60656</td>\n",
       "      <td>4.6</td>\n",
       "      <td>118.61090</td>\n",
       "    </tr>\n",
       "    <tr>\n",
       "      <td>4</td>\n",
       "      <td>Austria</td>\n",
       "      <td>2010</td>\n",
       "      <td>female</td>\n",
       "      <td>15-24</td>\n",
       "      <td>14</td>\n",
       "      <td>499638</td>\n",
       "      <td>2.800000</td>\n",
       "      <td>0.879</td>\n",
       "      <td>3.918930e+11</td>\n",
       "      <td>49181</td>\n",
       "      <td>9.4</td>\n",
       "      <td>75.62378</td>\n",
       "    </tr>\n",
       "  </tbody>\n",
       "</table>\n",
       "</div>"
      ],
      "text/plain": [
       "     country  year     sex age_group  suicides  pop_age_group  suicides_rate  \\\n",
       "0  Australia  2015  female     15-24       110        1526305       7.210000   \n",
       "1  Australia  2015    male     15-24       281        1608990      17.460000   \n",
       "2  Australia  2015  female     25-54       413        4951358       8.341146   \n",
       "3  Australia  2015    male     25-54      1367        4911564      27.832275   \n",
       "4    Austria  2010  female     15-24        14         499638       2.800000   \n",
       "\n",
       "   HDI for year   gdp_for_year  gdp_per_capita  unemployment_rate  \\\n",
       "0           NaN   1.349030e+12           60656               11.9   \n",
       "1           NaN   1.349030e+12           60656               14.2   \n",
       "2           NaN   1.349030e+12           60656                5.2   \n",
       "3           NaN   1.349030e+12           60656                4.6   \n",
       "4         0.879   3.918930e+11           49181                9.4   \n",
       "\n",
       "   terciary_rate  \n",
       "0      118.61090  \n",
       "1      118.61090  \n",
       "2      118.61090  \n",
       "3      118.61090  \n",
       "4       75.62378  "
      ]
     },
     "execution_count": 2,
     "metadata": {},
     "output_type": "execute_result"
    }
   ],
   "source": [
    "#Importing Dataset\n",
    "#reading the data\n",
    "df = pd.read_csv('C:/Users/Maikol Cerda/Desktop/data.csv')\n",
    "\n",
    "# take a look at the dataset\n",
    "df.head()"
   ]
  },
  {
   "cell_type": "code",
   "execution_count": 3,
   "metadata": {},
   "outputs": [
    {
     "data": {
      "text/html": [
       "<div>\n",
       "<style scoped>\n",
       "    .dataframe tbody tr th:only-of-type {\n",
       "        vertical-align: middle;\n",
       "    }\n",
       "\n",
       "    .dataframe tbody tr th {\n",
       "        vertical-align: top;\n",
       "    }\n",
       "\n",
       "    .dataframe thead th {\n",
       "        text-align: right;\n",
       "    }\n",
       "</style>\n",
       "<table border=\"1\" class=\"dataframe\">\n",
       "  <thead>\n",
       "    <tr style=\"text-align: right;\">\n",
       "      <th></th>\n",
       "      <th>country</th>\n",
       "      <th>year</th>\n",
       "      <th>sex</th>\n",
       "      <th>age_group</th>\n",
       "      <th>suicides</th>\n",
       "      <th>pop_age_group</th>\n",
       "      <th>suicides_rate</th>\n",
       "      <th>HDI for year</th>\n",
       "      <th>gdp_for_year</th>\n",
       "      <th>gdp_per_capita</th>\n",
       "      <th>unemployment_rate</th>\n",
       "      <th>terciary_rate</th>\n",
       "    </tr>\n",
       "  </thead>\n",
       "  <tbody>\n",
       "    <tr>\n",
       "      <td>561</td>\n",
       "      <td>Russian Federation</td>\n",
       "      <td>2011</td>\n",
       "      <td>male</td>\n",
       "      <td>15-24</td>\n",
       "      <td>3569</td>\n",
       "      <td>10070836</td>\n",
       "      <td>35.44</td>\n",
       "      <td>NaN</td>\n",
       "      <td>2.051660e+12</td>\n",
       "      <td>15226</td>\n",
       "      <td>15.0</td>\n",
       "      <td>76.18489</td>\n",
       "    </tr>\n",
       "    <tr>\n",
       "      <td>565</td>\n",
       "      <td>Russian Federation</td>\n",
       "      <td>2012</td>\n",
       "      <td>male</td>\n",
       "      <td>15-24</td>\n",
       "      <td>3275</td>\n",
       "      <td>9484213</td>\n",
       "      <td>34.53</td>\n",
       "      <td>NaN</td>\n",
       "      <td>2.210260e+12</td>\n",
       "      <td>16413</td>\n",
       "      <td>14.5</td>\n",
       "      <td>75.90709</td>\n",
       "    </tr>\n",
       "    <tr>\n",
       "      <td>569</td>\n",
       "      <td>Russian Federation</td>\n",
       "      <td>2013</td>\n",
       "      <td>male</td>\n",
       "      <td>15-24</td>\n",
       "      <td>2770</td>\n",
       "      <td>8908926</td>\n",
       "      <td>31.09</td>\n",
       "      <td>NaN</td>\n",
       "      <td>2.297130e+12</td>\n",
       "      <td>17052</td>\n",
       "      <td>13.3</td>\n",
       "      <td>77.85032</td>\n",
       "    </tr>\n",
       "    <tr>\n",
       "      <td>573</td>\n",
       "      <td>Russian Federation</td>\n",
       "      <td>2014</td>\n",
       "      <td>male</td>\n",
       "      <td>15-24</td>\n",
       "      <td>2311</td>\n",
       "      <td>8908926</td>\n",
       "      <td>25.94</td>\n",
       "      <td>NaN</td>\n",
       "      <td>2.063660e+12</td>\n",
       "      <td>15319</td>\n",
       "      <td>13.3</td>\n",
       "      <td>78.46310</td>\n",
       "    </tr>\n",
       "    <tr>\n",
       "      <td>577</td>\n",
       "      <td>Russian Federation</td>\n",
       "      <td>2015</td>\n",
       "      <td>male</td>\n",
       "      <td>15-24</td>\n",
       "      <td>1928</td>\n",
       "      <td>7995706</td>\n",
       "      <td>24.11</td>\n",
       "      <td>NaN</td>\n",
       "      <td>1.368400e+12</td>\n",
       "      <td>9987</td>\n",
       "      <td>15.3</td>\n",
       "      <td>79.93813</td>\n",
       "    </tr>\n",
       "  </tbody>\n",
       "</table>\n",
       "</div>"
      ],
      "text/plain": [
       "                country  year   sex age_group  suicides  pop_age_group  \\\n",
       "561  Russian Federation  2011  male     15-24      3569       10070836   \n",
       "565  Russian Federation  2012  male     15-24      3275        9484213   \n",
       "569  Russian Federation  2013  male     15-24      2770        8908926   \n",
       "573  Russian Federation  2014  male     15-24      2311        8908926   \n",
       "577  Russian Federation  2015  male     15-24      1928        7995706   \n",
       "\n",
       "     suicides_rate  HDI for year   gdp_for_year  gdp_per_capita  \\\n",
       "561          35.44           NaN   2.051660e+12           15226   \n",
       "565          34.53           NaN   2.210260e+12           16413   \n",
       "569          31.09           NaN   2.297130e+12           17052   \n",
       "573          25.94           NaN   2.063660e+12           15319   \n",
       "577          24.11           NaN   1.368400e+12            9987   \n",
       "\n",
       "     unemployment_rate  terciary_rate  \n",
       "561               15.0       76.18489  \n",
       "565               14.5       75.90709  \n",
       "569               13.3       77.85032  \n",
       "573               13.3       78.46310  \n",
       "577               15.3       79.93813  "
      ]
     },
     "execution_count": 3,
     "metadata": {},
     "output_type": "execute_result"
    }
   ],
   "source": [
    "#First Analysis\n",
    "#Young male and unemployment\n",
    "df2=df[ (df['year'] > 2010) & (df['country'] == \"Russian Federation\") & (df['sex'] == \"male\") & (df['age_group'] == \"15-24\")]\n",
    "\n",
    "df2.head()"
   ]
  },
  {
   "cell_type": "code",
   "execution_count": 4,
   "metadata": {},
   "outputs": [
    {
     "data": {
      "text/plain": [
       "Text(0.5, 1.0, 'Correlation between Unemployment and Suicides, Russia-young male')"
      ]
     },
     "execution_count": 4,
     "metadata": {},
     "output_type": "execute_result"
    },
    {
     "data": {
      "image/png": "[encoded data removed]",
      "text/plain": [
       "<Figure size 432x288 with 2 Axes>"
      ]
     },
     "metadata": {
      "needs_background": "dark"
     },
     "output_type": "display_data"
    }
   ],
   "source": [
    "fig = plt.figure()\n",
    "ax1 = fig.add_subplot(111)\n",
    "plt.bar(df2['year'], df2['unemployment_rate'], align='center',linewidth=20, width = 0.45)\n",
    "\n",
    "ax1.legend(['Unemployment Rate'], loc=3)\n",
    "ax1.yaxis.tick_left()\n",
    "ax1.yaxis.set_label_position(\"left\")\n",
    "plt.xlabel('Years')\n",
    "plt.yticks(color = 'white')\n",
    "plt.ylabel('Unemployment Rate', color = 'white')\n",
    "ax1.set_ylim([12,16])\n",
    "\n",
    "ax2 = fig.add_subplot(111, sharex=ax1, frameon=False)\n",
    "ax2.plot(df2['year'], df2['suicides_rate'], '--', color = 'darkgreen', alpha = 20)\n",
    "ax2.yaxis.tick_right()\n",
    "ax2.yaxis.set_label_position(\"right\")\n",
    "ax2.legend(['Suicides per 100k'], loc=1)\n",
    "plt.yticks(color = 'white', alpha = 1.5)\n",
    "plt.ylabel(\"Suicides per 100k\", color = 'white', alpha =20)\n",
    "plt.tight_layout()\n",
    "plt.title('Correlation between Unemployment and Suicides, Russia-young male')\n"
   ]
  },
  {
   "cell_type": "code",
   "execution_count": 5,
   "metadata": {},
   "outputs": [
    {
     "data": {
      "text/html": [
       "<a href =\"image.png\" download>Click here to download image.png</a>"
      ],
      "text/plain": [
       "<IPython.core.display.HTML object>"
      ]
     },
     "execution_count": 5,
     "metadata": {},
     "output_type": "execute_result"
    },
    {
     "data": {
      "text/plain": [
       "<Figure size 432x288 with 0 Axes>"
      ]
     },
     "metadata": {},
     "output_type": "display_data"
    }
   ],
   "source": [
    "#Saving the plot\n",
    "#plt.show()\n",
    "image1 = 'image.png'\n",
    "plt.savefig(image1)\n",
    "\n",
    "from IPython.display import HTML\n",
    "HTML('<a href =\"{0}\" download>Click here to download {0}</a>'.format(image1))"
   ]
  },
  {
   "cell_type": "code",
   "execution_count": 6,
   "metadata": {},
   "outputs": [
    {
     "data": {
      "text/plain": [
       "Text(0.5, 1.0, 'Correlation between Univ Education Rate and Suicides, Russia-young male')"
      ]
     },
     "execution_count": 6,
     "metadata": {},
     "output_type": "execute_result"
    },
    {
     "data": {
      "image/png": "[encoded data removed]",
      "text/plain": [
       "<Figure size 432x288 with 2 Axes>"
      ]
     },
     "metadata": {
      "needs_background": "dark"
     },
     "output_type": "display_data"
    }
   ],
   "source": [
    "fig = plt.figure()\n",
    "ax1 = fig.add_subplot(111)\n",
    "plt.bar(df2['year'], df2['terciary_rate'], align='center',linewidth=20, width = 0.45)\n",
    "\n",
    "ax1.legend(['Univ. Education Rate'], loc=3)\n",
    "ax1.yaxis.tick_left()\n",
    "ax1.yaxis.set_label_position(\"left\")\n",
    "plt.xlabel('Years')\n",
    "plt.yticks(color = 'white')\n",
    "plt.ylabel('Univ. Education Rate', color = 'white')\n",
    "ax1.set_ylim([70,80])\n",
    "\n",
    "ax2 = fig.add_subplot(111, sharex=ax1, frameon=False)\n",
    "ax2.plot(df2['year'], df2['suicides_rate'], '--', color = 'darkgreen', alpha = 20)\n",
    "ax2.yaxis.tick_right()\n",
    "ax2.yaxis.set_label_position(\"right\")\n",
    "ax2.legend(['Suicides per 100k'], loc=1)\n",
    "plt.yticks(color = 'white', alpha = 1.5)\n",
    "plt.ylabel(\"Suicides per 100k\", color = 'white', alpha =20)\n",
    "plt.tight_layout()\n",
    "plt.title('Correlation between Univ Education Rate and Suicides, Russia-young male')"
   ]
  },
  {
   "cell_type": "code",
   "execution_count": 7,
   "metadata": {},
   "outputs": [
    {
     "data": {
      "text/html": [
       "<a href =\"image.png\" download>Click here to download image.png</a>"
      ],
      "text/plain": [
       "<IPython.core.display.HTML object>"
      ]
     },
     "execution_count": 7,
     "metadata": {},
     "output_type": "execute_result"
    },
    {
     "data": {
      "text/plain": [
       "<Figure size 432x288 with 0 Axes>"
      ]
     },
     "metadata": {},
     "output_type": "display_data"
    }
   ],
   "source": [
    "#Saving the plot\n",
    "#plt.show()\n",
    "image2 = 'image.png'\n",
    "plt.savefig(image2)\n",
    "\n",
    "from IPython.display import HTML\n",
    "HTML('<a href =\"{0}\" download>Click here to download {0}</a>'.format(image2))"
   ]
  },
  {
   "cell_type": "code",
   "execution_count": 8,
   "metadata": {},
   "outputs": [
    {
     "data": {
      "text/plain": [
       "Text(0.5, 1.0, 'Correlation between GDP per capita and Suicides, Russia-young male')"
      ]
     },
     "execution_count": 8,
     "metadata": {},
     "output_type": "execute_result"
    },
    {
     "data": {
      "image/png": "[encoded data removed]",
      "text/plain": [
       "<Figure size 432x288 with 2 Axes>"
      ]
     },
     "metadata": {
      "needs_background": "dark"
     },
     "output_type": "display_data"
    }
   ],
   "source": [
    "fig = plt.figure()\n",
    "ax1 = fig.add_subplot(111)\n",
    "plt.bar(df2['year'], df2['gdp_per_capita'], align='center',linewidth=20, width = 0.45)\n",
    "\n",
    "ax1.legend(['Unemployment Rate'], loc=3)\n",
    "ax1.yaxis.tick_left()\n",
    "ax1.yaxis.set_label_position(\"left\")\n",
    "plt.xlabel('Years')\n",
    "plt.yticks(color = 'white')\n",
    "plt.ylabel('GDP per capita', color = 'white')\n",
    "ax1.set_ylim([8000,20000])\n",
    "\n",
    "ax2 = fig.add_subplot(111, sharex=ax1, frameon=False)\n",
    "ax2.plot(df2['year'], df2['suicides_rate'], '--', color = 'darkgreen', alpha = 20)\n",
    "ax2.yaxis.tick_right()\n",
    "ax2.yaxis.set_label_position(\"right\")\n",
    "ax2.legend(['Suicides per 100k'], loc=1)\n",
    "plt.yticks(color = 'white', alpha = 1.5)\n",
    "plt.ylabel(\"Suicides per 100k\", color = 'white', alpha =20)\n",
    "plt.tight_layout()\n",
    "plt.title('Correlation between GDP per capita and Suicides, Russia-young male')\n"
   ]
  },
  {
   "cell_type": "code",
   "execution_count": 9,
   "metadata": {},
   "outputs": [
    {
     "data": {
      "text/html": [
       "<a href =\"image.png\" download>Click here to download image.png</a>"
      ],
      "text/plain": [
       "<IPython.core.display.HTML object>"
      ]
     },
     "execution_count": 9,
     "metadata": {},
     "output_type": "execute_result"
    },
    {
     "data": {
      "text/plain": [
       "<Figure size 432x288 with 0 Axes>"
      ]
     },
     "metadata": {},
     "output_type": "display_data"
    }
   ],
   "source": [
    "#Saving the plot\n",
    "#plt.show()\n",
    "image3 = 'image.png'\n",
    "plt.savefig(image3)\n",
    "\n",
    "from IPython.display import HTML\n",
    "HTML('<a href =\"{0}\" download>Click here to download {0}</a>'.format(image3))"
   ]
  },
  {
   "cell_type": "code",
   "execution_count": null,
   "metadata": {},
   "outputs": [],
   "source": []
  }
 ],
 "metadata": {
  "kernelspec": {
   "display_name": "Python 3",
   "language": "python",
   "name": "python3"
  },
  "language_info": {
   "codemirror_mode": {
    "name": "ipython",
    "version": 3
   },
   "file_extension": ".py",
   "mimetype": "text/x-python",
   "name": "python",
   "nbconvert_exporter": "python",
   "pygments_lexer": "ipython3",
   "version": "3.6.8"
  }
 },
 "nbformat": 4,
 "nbformat_minor": 2
}
